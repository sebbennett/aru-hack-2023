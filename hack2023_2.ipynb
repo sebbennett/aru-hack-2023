{
 "cells": [
  {
   "cell_type": "code",
   "execution_count": 114,
   "id": "8af8c507",
   "metadata": {},
   "outputs": [],
   "source": [
    "#import all libraries \n",
    "import pandas as pd\n",
    "import numpy as np\n",
    "from lightgbm.sklearn import LGBMClassifier\n",
    "from sklearn.metrics import balanced_accuracy_score\n",
    "from sklearn.compose import ColumnTransformer\n",
    "from sklearn.model_selection import train_test_split\n",
    "from sklearn.pipeline import Pipeline\n",
    "from sklearn.preprocessing import OneHotEncoder\n"
   ]
  },
  {
   "cell_type": "code",
   "execution_count": 69,
   "id": "bf6c0830",
   "metadata": {},
   "outputs": [
    {
     "name": "stderr",
     "output_type": "stream",
     "text": [
      "c:\\python3.7.3\\lib\\site-packages\\IPython\\core\\interactiveshell.py:3173: DtypeWarning: Columns (1,2,3,4,5) have mixed types.Specify dtype option on import or set low_memory=False.\n",
      "  interactivity=interactivity, compiler=compiler, result=result)\n"
     ]
    },
    {
     "data": {
      "text/html": [
       "<div>\n",
       "<style scoped>\n",
       "    .dataframe tbody tr th:only-of-type {\n",
       "        vertical-align: middle;\n",
       "    }\n",
       "\n",
       "    .dataframe tbody tr th {\n",
       "        vertical-align: top;\n",
       "    }\n",
       "\n",
       "    .dataframe thead th {\n",
       "        text-align: right;\n",
       "    }\n",
       "</style>\n",
       "<table border=\"1\" class=\"dataframe\">\n",
       "  <thead>\n",
       "    <tr style=\"text-align: right;\">\n",
       "      <th></th>\n",
       "      <th>test_date</th>\n",
       "      <th>cough</th>\n",
       "      <th>fever</th>\n",
       "      <th>sore_throat</th>\n",
       "      <th>shortness_of_breath</th>\n",
       "      <th>head_ache</th>\n",
       "      <th>corona_result</th>\n",
       "      <th>age_60_and_above</th>\n",
       "      <th>gender</th>\n",
       "      <th>test_indication</th>\n",
       "    </tr>\n",
       "  </thead>\n",
       "  <tbody>\n",
       "    <tr>\n",
       "      <th>0</th>\n",
       "      <td>2020-04-30</td>\n",
       "      <td>0</td>\n",
       "      <td>0</td>\n",
       "      <td>0</td>\n",
       "      <td>0</td>\n",
       "      <td>0</td>\n",
       "      <td>negative</td>\n",
       "      <td>None</td>\n",
       "      <td>female</td>\n",
       "      <td>Other</td>\n",
       "    </tr>\n",
       "    <tr>\n",
       "      <th>1</th>\n",
       "      <td>2020-04-30</td>\n",
       "      <td>1</td>\n",
       "      <td>0</td>\n",
       "      <td>0</td>\n",
       "      <td>0</td>\n",
       "      <td>0</td>\n",
       "      <td>negative</td>\n",
       "      <td>None</td>\n",
       "      <td>female</td>\n",
       "      <td>Other</td>\n",
       "    </tr>\n",
       "    <tr>\n",
       "      <th>2</th>\n",
       "      <td>2020-04-30</td>\n",
       "      <td>0</td>\n",
       "      <td>1</td>\n",
       "      <td>0</td>\n",
       "      <td>0</td>\n",
       "      <td>0</td>\n",
       "      <td>negative</td>\n",
       "      <td>None</td>\n",
       "      <td>male</td>\n",
       "      <td>Other</td>\n",
       "    </tr>\n",
       "    <tr>\n",
       "      <th>3</th>\n",
       "      <td>2020-04-30</td>\n",
       "      <td>1</td>\n",
       "      <td>0</td>\n",
       "      <td>0</td>\n",
       "      <td>0</td>\n",
       "      <td>0</td>\n",
       "      <td>negative</td>\n",
       "      <td>None</td>\n",
       "      <td>female</td>\n",
       "      <td>Other</td>\n",
       "    </tr>\n",
       "    <tr>\n",
       "      <th>4</th>\n",
       "      <td>2020-04-30</td>\n",
       "      <td>1</td>\n",
       "      <td>0</td>\n",
       "      <td>0</td>\n",
       "      <td>0</td>\n",
       "      <td>0</td>\n",
       "      <td>negative</td>\n",
       "      <td>None</td>\n",
       "      <td>male</td>\n",
       "      <td>Other</td>\n",
       "    </tr>\n",
       "  </tbody>\n",
       "</table>\n",
       "</div>"
      ],
      "text/plain": [
       "    test_date cough fever sore_throat shortness_of_breath head_ache  \\\n",
       "0  2020-04-30     0     0           0                   0         0   \n",
       "1  2020-04-30     1     0           0                   0         0   \n",
       "2  2020-04-30     0     1           0                   0         0   \n",
       "3  2020-04-30     1     0           0                   0         0   \n",
       "4  2020-04-30     1     0           0                   0         0   \n",
       "\n",
       "  corona_result age_60_and_above  gender test_indication  \n",
       "0      negative             None  female           Other  \n",
       "1      negative             None  female           Other  \n",
       "2      negative             None    male           Other  \n",
       "3      negative             None  female           Other  \n",
       "4      negative             None    male           Other  "
      ]
     },
     "execution_count": 69,
     "metadata": {},
     "output_type": "execute_result"
    }
   ],
   "source": [
    "# read the dataset using the compression zip\n",
    "df_006 = pd.read_csv('data/corona_tested_individuals_ver_006.english.csv.zip',compression='zip')\n",
    "df_006.head()"
   ]
  },
  {
   "cell_type": "code",
   "execution_count": 4,
   "id": "88f190f5",
   "metadata": {},
   "outputs": [
    {
     "name": "stderr",
     "output_type": "stream",
     "text": [
      "c:\\python3.7.3\\lib\\site-packages\\IPython\\core\\interactiveshell.py:3173: DtypeWarning: Columns (7) have mixed types.Specify dtype option on import or set low_memory=False.\n",
      "  interactivity=interactivity, compiler=compiler, result=result)\n"
     ]
    },
    {
     "data": {
      "text/html": [
       "<div>\n",
       "<style scoped>\n",
       "    .dataframe tbody tr th:only-of-type {\n",
       "        vertical-align: middle;\n",
       "    }\n",
       "\n",
       "    .dataframe tbody tr th {\n",
       "        vertical-align: top;\n",
       "    }\n",
       "\n",
       "    .dataframe thead th {\n",
       "        text-align: right;\n",
       "    }\n",
       "</style>\n",
       "<table border=\"1\" class=\"dataframe\">\n",
       "  <thead>\n",
       "    <tr style=\"text-align: right;\">\n",
       "      <th></th>\n",
       "      <th>test_date</th>\n",
       "      <th>cough</th>\n",
       "      <th>fever</th>\n",
       "      <th>sore_throat</th>\n",
       "      <th>shortness_of_breath</th>\n",
       "      <th>head_ache</th>\n",
       "      <th>corona_result</th>\n",
       "      <th>age_60_and_above</th>\n",
       "      <th>gender</th>\n",
       "      <th>test_indication</th>\n",
       "    </tr>\n",
       "  </thead>\n",
       "  <tbody>\n",
       "    <tr>\n",
       "      <th>0</th>\n",
       "      <td>2020-11-12</td>\n",
       "      <td>0</td>\n",
       "      <td>0</td>\n",
       "      <td>0</td>\n",
       "      <td>0</td>\n",
       "      <td>0</td>\n",
       "      <td>negative</td>\n",
       "      <td>No</td>\n",
       "      <td>male</td>\n",
       "      <td>Other</td>\n",
       "    </tr>\n",
       "    <tr>\n",
       "      <th>1</th>\n",
       "      <td>2020-11-12</td>\n",
       "      <td>0</td>\n",
       "      <td>1</td>\n",
       "      <td>0</td>\n",
       "      <td>0</td>\n",
       "      <td>0</td>\n",
       "      <td>negative</td>\n",
       "      <td>No</td>\n",
       "      <td>male</td>\n",
       "      <td>Other</td>\n",
       "    </tr>\n",
       "    <tr>\n",
       "      <th>2</th>\n",
       "      <td>2020-11-12</td>\n",
       "      <td>0</td>\n",
       "      <td>0</td>\n",
       "      <td>0</td>\n",
       "      <td>0</td>\n",
       "      <td>0</td>\n",
       "      <td>negative</td>\n",
       "      <td>Yes</td>\n",
       "      <td>female</td>\n",
       "      <td>Other</td>\n",
       "    </tr>\n",
       "    <tr>\n",
       "      <th>3</th>\n",
       "      <td>2020-11-12</td>\n",
       "      <td>0</td>\n",
       "      <td>0</td>\n",
       "      <td>0</td>\n",
       "      <td>0</td>\n",
       "      <td>0</td>\n",
       "      <td>negative</td>\n",
       "      <td>No</td>\n",
       "      <td>male</td>\n",
       "      <td>Other</td>\n",
       "    </tr>\n",
       "    <tr>\n",
       "      <th>4</th>\n",
       "      <td>2020-11-12</td>\n",
       "      <td>0</td>\n",
       "      <td>1</td>\n",
       "      <td>0</td>\n",
       "      <td>0</td>\n",
       "      <td>0</td>\n",
       "      <td>negative</td>\n",
       "      <td>No</td>\n",
       "      <td>male</td>\n",
       "      <td>Contact with confirmed</td>\n",
       "    </tr>\n",
       "  </tbody>\n",
       "</table>\n",
       "</div>"
      ],
      "text/plain": [
       "    test_date  cough  fever  sore_throat  shortness_of_breath  head_ache  \\\n",
       "0  2020-11-12      0      0            0                    0          0   \n",
       "1  2020-11-12      0      1            0                    0          0   \n",
       "2  2020-11-12      0      0            0                    0          0   \n",
       "3  2020-11-12      0      0            0                    0          0   \n",
       "4  2020-11-12      0      1            0                    0          0   \n",
       "\n",
       "  corona_result age_60_and_above  gender         test_indication  \n",
       "0      negative               No    male                   Other  \n",
       "1      negative               No    male                   Other  \n",
       "2      negative              Yes  female                   Other  \n",
       "3      negative               No    male                   Other  \n",
       "4      negative               No    male  Contact with confirmed  "
      ]
     },
     "execution_count": 4,
     "metadata": {},
     "output_type": "execute_result"
    }
   ],
   "source": [
    "df_0083 = pd.read_csv('data/corona_tested_individuals_ver_0083.english.csv')\n",
    "df_0083.head()"
   ]
  },
  {
   "cell_type": "code",
   "execution_count": 7,
   "id": "f8c0f8a1",
   "metadata": {},
   "outputs": [
    {
     "data": {
      "text/plain": [
       "test_date              object\n",
       "cough                  object\n",
       "fever                  object\n",
       "sore_throat            object\n",
       "shortness_of_breath    object\n",
       "head_ache              object\n",
       "corona_result          object\n",
       "age_60_and_above       object\n",
       "gender                 object\n",
       "test_indication        object\n",
       "dtype: object"
      ]
     },
     "execution_count": 7,
     "metadata": {},
     "output_type": "execute_result"
    }
   ],
   "source": [
    "df_006.dtypes"
   ]
  },
  {
   "cell_type": "code",
   "execution_count": 8,
   "id": "12fc0b92",
   "metadata": {},
   "outputs": [
    {
     "data": {
      "text/plain": [
       "<bound method DataFrame.info of          test_date cough fever sore_throat shortness_of_breath head_ache  \\\n",
       "0       2020-04-30     0     0           0                   0         0   \n",
       "1       2020-04-30     1     0           0                   0         0   \n",
       "2       2020-04-30     0     1           0                   0         0   \n",
       "3       2020-04-30     1     0           0                   0         0   \n",
       "4       2020-04-30     1     0           0                   0         0   \n",
       "...            ...   ...   ...         ...                 ...       ...   \n",
       "278843  2020-03-11     0     0           0                   0         0   \n",
       "278844  2020-03-11     0     0           0                   0         0   \n",
       "278845  2020-03-11     0     0           0                   0         0   \n",
       "278846  2020-03-11     0     0           0                   0         0   \n",
       "278847  2020-03-11     0     0           0                   0         0   \n",
       "\n",
       "       corona_result age_60_and_above  gender         test_indication  \n",
       "0           negative             None  female                   Other  \n",
       "1           negative             None  female                   Other  \n",
       "2           negative             None    male                   Other  \n",
       "3           negative             None  female                   Other  \n",
       "4           negative             None    male                   Other  \n",
       "...              ...              ...     ...                     ...  \n",
       "278843      negative             None    None                   Other  \n",
       "278844      negative             None    None                   Other  \n",
       "278845      positive             None    None  Contact with confirmed  \n",
       "278846         other             None    None                   Other  \n",
       "278847      negative             None    None                   Other  \n",
       "\n",
       "[278848 rows x 10 columns]>"
      ]
     },
     "execution_count": 8,
     "metadata": {},
     "output_type": "execute_result"
    }
   ],
   "source": [
    "df_006.info"
   ]
  },
  {
   "cell_type": "code",
   "execution_count": 10,
   "id": "b709d30f",
   "metadata": {},
   "outputs": [
    {
     "data": {
      "text/plain": [
       "<bound method DataFrame.info of          test_date cough fever sore_throat shortness_of_breath head_ache  \\\n",
       "211278  2020-03-31     0     0           0                   0         0   \n",
       "211279  2020-03-31     0     0           0                   0         0   \n",
       "211280  2020-03-31     0     0           0                   0         0   \n",
       "211281  2020-03-31     0     0           0                   0         0   \n",
       "211282  2020-03-31     1     0           0                   0         0   \n",
       "...            ...   ...   ...         ...                 ...       ...   \n",
       "265116  2020-03-22     1     1           0                   0         0   \n",
       "265117  2020-03-22     1     1           1                   0         1   \n",
       "265118  2020-03-22     1     0           0                   0         0   \n",
       "265119  2020-03-22     1     0           0                   0         0   \n",
       "265120  2020-03-22     1     0           0                   0         0   \n",
       "\n",
       "       corona_result age_60_and_above  gender test_indication  \n",
       "211278      negative               No    male           Other  \n",
       "211279      negative               No  female           Other  \n",
       "211280      negative               No    male           Other  \n",
       "211281      positive               No  female           Other  \n",
       "211282      negative               No    male          Abroad  \n",
       "...              ...              ...     ...             ...  \n",
       "265116      negative              Yes  female          Abroad  \n",
       "265117      negative               No  female          Abroad  \n",
       "265118      negative               No  female          Abroad  \n",
       "265119      negative               No    male           Other  \n",
       "265120      negative               No    male           Other  \n",
       "\n",
       "[53843 rows x 10 columns]>"
      ]
     },
     "execution_count": 10,
     "metadata": {},
     "output_type": "execute_result"
    }
   ],
   "source": [
    "df_006_train_val = df_006.loc[(df_006['test_date'] >= '2020-03-22') & (df_006['test_date'] <= '2020-03-31')]\n",
    "df_006_train_val.info"
   ]
  },
  {
   "cell_type": "code",
   "execution_count": 16,
   "id": "e1153759",
   "metadata": {},
   "outputs": [
    {
     "data": {
      "text/plain": [
       "<bound method DataFrame.info of         test_date cough fever sore_throat shortness_of_breath head_ache  \\\n",
       "211278 2020-03-31     0     0           0                   0         0   \n",
       "211279 2020-03-31     0     0           0                   0         0   \n",
       "211280 2020-03-31     0     0           0                   0         0   \n",
       "211281 2020-03-31     0     0           0                   0         0   \n",
       "211282 2020-03-31     1     0           0                   0         0   \n",
       "...           ...   ...   ...         ...                 ...       ...   \n",
       "265116 2020-03-22     1     1           0                   0         0   \n",
       "265117 2020-03-22     1     1           1                   0         1   \n",
       "265118 2020-03-22     1     0           0                   0         0   \n",
       "265119 2020-03-22     1     0           0                   0         0   \n",
       "265120 2020-03-22     1     0           0                   0         0   \n",
       "\n",
       "       corona_result age_60_and_above  gender test_indication  \n",
       "211278      negative               No    male           Other  \n",
       "211279      negative               No  female           Other  \n",
       "211280      negative               No    male           Other  \n",
       "211281      positive               No  female           Other  \n",
       "211282      negative               No    male          Abroad  \n",
       "...              ...              ...     ...             ...  \n",
       "265116      negative              Yes  female          Abroad  \n",
       "265117      negative               No  female          Abroad  \n",
       "265118      negative               No  female          Abroad  \n",
       "265119      negative               No    male           Other  \n",
       "265120      negative               No    male           Other  \n",
       "\n",
       "[53843 rows x 10 columns]>"
      ]
     },
     "execution_count": 16,
     "metadata": {},
     "output_type": "execute_result"
    }
   ],
   "source": [
    "df_006['test_date'] = pd.to_datetime(df_006['test_date'], format='%Y-%m-%d')\n",
    "df_006_train_val = df_006.loc[(df_006['test_date'] >= '2020-03-22') & (df_006['test_date'] <= '2020-03-31')]\n",
    "df_006_train_val.info"
   ]
  },
  {
   "cell_type": "code",
   "execution_count": 24,
   "id": "1c04b586",
   "metadata": {},
   "outputs": [
    {
     "data": {
      "text/plain": [
       "False"
      ]
     },
     "execution_count": 24,
     "metadata": {},
     "output_type": "execute_result"
    }
   ],
   "source": [
    "nan_in_data = df_006.isna().sum().any()\n",
    "nan_in_data"
   ]
  },
  {
   "cell_type": "code",
   "execution_count": 34,
   "id": "dd8aa054",
   "metadata": {},
   "outputs": [
    {
     "data": {
      "text/plain": [
       "Index(['test_date', 'cough', 'fever', 'sore_throat', 'shortness_of_breath',\n",
       "       'head_ache', 'corona_result', 'age_60_and_above', 'gender',\n",
       "       'test_indication'],\n",
       "      dtype='object')"
      ]
     },
     "execution_count": 34,
     "metadata": {},
     "output_type": "execute_result"
    }
   ],
   "source": [
    "df_006.columns\n"
   ]
  },
  {
   "cell_type": "code",
   "execution_count": 70,
   "id": "c06357b1",
   "metadata": {},
   "outputs": [
    {
     "data": {
      "text/plain": [
       "array([0, 1, '0', '1', 'None'], dtype=object)"
      ]
     },
     "execution_count": 70,
     "metadata": {},
     "output_type": "execute_result"
    }
   ],
   "source": [
    "pd.unique(df_006['cough'])\n"
   ]
  },
  {
   "cell_type": "code",
   "execution_count": 88,
   "id": "ceb81ac0",
   "metadata": {},
   "outputs": [
    {
     "name": "stdout",
     "output_type": "stream",
     "text": [
      "[0 1]\n",
      "[0 1]\n",
      "[0 1]\n",
      "[0 1]\n",
      "[0 1]\n"
     ]
    },
    {
     "data": {
      "text/plain": [
       "cough                  int64\n",
       "fever                  int64\n",
       "sore_throat            int64\n",
       "shortness_of_breath    int64\n",
       "head_ache              int64\n",
       "dtype: object"
      ]
     },
     "execution_count": 88,
     "metadata": {},
     "output_type": "execute_result"
    }
   ],
   "source": [
    "num_columns = ['cough', 'fever', 'sore_throat', 'shortness_of_breath',\n",
    "       'head_ache']\n",
    "for i in num_columns:\n",
    "    df_006 = df_006[df_006[i] != 'None']\n",
    "    print (pd.unique(df_006[i]))\n",
    "df_006[num_columns] = df_006[num_columns].apply(pd.to_numeric)\n",
    "df_006[num_columns] .dtypes"
   ]
  },
  {
   "cell_type": "code",
   "execution_count": 89,
   "id": "96ef3b0b",
   "metadata": {},
   "outputs": [
    {
     "data": {
      "text/plain": [
       "<bound method DataFrame.info of          test_date  cough  fever  sore_throat  shortness_of_breath  head_ache  \\\n",
       "0       2020-04-30      0      0            0                    0          0   \n",
       "1       2020-04-30      1      0            0                    0          0   \n",
       "2       2020-04-30      0      1            0                    0          0   \n",
       "3       2020-04-30      1      0            0                    0          0   \n",
       "4       2020-04-30      1      0            0                    0          0   \n",
       "...            ...    ...    ...          ...                  ...        ...   \n",
       "278843  2020-03-11      0      0            0                    0          0   \n",
       "278844  2020-03-11      0      0            0                    0          0   \n",
       "278845  2020-03-11      0      0            0                    0          0   \n",
       "278846  2020-03-11      0      0            0                    0          0   \n",
       "278847  2020-03-11      0      0            0                    0          0   \n",
       "\n",
       "       corona_result age_60_and_above  gender         test_indication  \n",
       "0           negative             None  female                   Other  \n",
       "1           negative             None  female                   Other  \n",
       "2           negative             None    male                   Other  \n",
       "3           negative             None  female                   Other  \n",
       "4           negative             None    male                   Other  \n",
       "...              ...              ...     ...                     ...  \n",
       "278843      negative             None    None                   Other  \n",
       "278844      negative             None    None                   Other  \n",
       "278845      positive             None    None  Contact with confirmed  \n",
       "278846         other             None    None                   Other  \n",
       "278847      negative             None    None                   Other  \n",
       "\n",
       "[278594 rows x 10 columns]>"
      ]
     },
     "execution_count": 89,
     "metadata": {},
     "output_type": "execute_result"
    }
   ],
   "source": [
    "df_006.info"
   ]
  },
  {
   "cell_type": "code",
   "execution_count": 92,
   "id": "5f028485",
   "metadata": {},
   "outputs": [],
   "source": [
    "cat_columns = ['corona_result', 'age_60_and_above', 'gender',\n",
    "       'test_indication']"
   ]
  },
  {
   "cell_type": "code",
   "execution_count": 93,
   "id": "93a61384",
   "metadata": {},
   "outputs": [
    {
     "name": "stdout",
     "output_type": "stream",
     "text": [
      "['negative' 'positive' 'other']\n",
      "['Yes' 'No']\n",
      "['male' 'female']\n",
      "['Other' 'Abroad' 'Contact with confirmed']\n"
     ]
    }
   ],
   "source": [
    "for i in cat_columns:\n",
    "    df_006 = df_006[df_006[i] != 'None']\n",
    "    print (pd.unique(df_006[i]))"
   ]
  },
  {
   "cell_type": "code",
   "execution_count": 95,
   "id": "d4ae595a",
   "metadata": {},
   "outputs": [],
   "source": [
    "df_006 = df_006[df_006['corona_result'] != 'other']\n",
    "df_006 = y.map({\"no\": 0, \"yes\": 1})"
   ]
  },
  {
   "cell_type": "code",
   "execution_count": 96,
   "id": "a4d40414",
   "metadata": {},
   "outputs": [
    {
     "data": {
      "text/plain": [
       "<bound method DataFrame.info of          test_date  cough  fever  sore_throat  shortness_of_breath  head_ache  \\\n",
       "211278  2020-03-31      0      0            0                    0          0   \n",
       "211279  2020-03-31      0      0            0                    0          0   \n",
       "211280  2020-03-31      0      0            0                    0          0   \n",
       "211281  2020-03-31      0      0            0                    0          0   \n",
       "211282  2020-03-31      1      0            0                    0          0   \n",
       "...            ...    ...    ...          ...                  ...        ...   \n",
       "265116  2020-03-22      1      1            0                    0          0   \n",
       "265117  2020-03-22      1      1            1                    0          1   \n",
       "265118  2020-03-22      1      0            0                    0          0   \n",
       "265119  2020-03-22      1      0            0                    0          0   \n",
       "265120  2020-03-22      1      0            0                    0          0   \n",
       "\n",
       "       corona_result age_60_and_above  gender test_indication  \n",
       "211278      negative               No    male           Other  \n",
       "211279      negative               No  female           Other  \n",
       "211280      negative               No    male           Other  \n",
       "211281      positive               No  female           Other  \n",
       "211282      negative               No    male          Abroad  \n",
       "...              ...              ...     ...             ...  \n",
       "265116      negative              Yes  female          Abroad  \n",
       "265117      negative               No  female          Abroad  \n",
       "265118      negative               No  female          Abroad  \n",
       "265119      negative               No    male           Other  \n",
       "265120      negative               No    male           Other  \n",
       "\n",
       "[51814 rows x 10 columns]>"
      ]
     },
     "execution_count": 96,
     "metadata": {},
     "output_type": "execute_result"
    }
   ],
   "source": [
    "df_006_train_val = df_006.loc[(df_006['test_date'] >= '2020-03-22') & (df_006['test_date'] <= '2020-03-31')]\n",
    "df_006_train_val.info"
   ]
  },
  {
   "cell_type": "code",
   "execution_count": 97,
   "id": "061f0936",
   "metadata": {},
   "outputs": [
    {
     "name": "stdout",
     "output_type": "stream",
     "text": [
      "['2020-04-14' '2020-04-13' '2020-04-12' '2020-04-11' '2020-04-10'\n",
      " '2020-04-09' '2020-04-08' '2020-04-07' '2020-04-06' '2020-04-05'\n",
      " '2020-04-04' '2020-04-03' '2020-04-02' '2020-04-01' '2020-03-31'\n",
      " '2020-03-30' '2020-03-29' '2020-03-28' '2020-03-27' '2020-03-26'\n",
      " '2020-03-25' '2020-03-24' '2020-03-23' '2020-03-22']\n",
      "[1 0]\n",
      "[0 1]\n",
      "[0 1]\n",
      "[0 1]\n",
      "[0 1]\n",
      "['negative' 'positive']\n",
      "['Yes' 'No']\n",
      "['male' 'female']\n",
      "['Other' 'Abroad' 'Contact with confirmed']\n"
     ]
    }
   ],
   "source": [
    "for i in df_006.columns:\n",
    "    print (pd.unique(df_006[i]))"
   ]
  },
  {
   "cell_type": "code",
   "execution_count": 99,
   "id": "294fcc9c",
   "metadata": {},
   "outputs": [],
   "source": [
    "df_006.drop(['test_date'], axis=1, inplace=True)"
   ]
  },
  {
   "cell_type": "code",
   "execution_count": null,
   "id": "31562a99",
   "metadata": {},
   "outputs": [],
   "source": [
    "df_006 = df_006"
   ]
  },
  {
   "cell_type": "code",
   "execution_count": 110,
   "id": "e3dbf91b",
   "metadata": {},
   "outputs": [],
   "source": [
    "def train_lgbm(X_train, X_test, y_train, y_test, categorical_features):\n",
    "    \n",
    "    categorical_encoder = OneHotEncoder(handle_unknown='ignore')\n",
    "    \n",
    "    \"\"\"numerical_pipe = Pipeline([\n",
    "        ('imputer', SimpleImputer(strategy='mean'))\n",
    "    ])\"\"\"\n",
    "\n",
    "    preprocessing = ColumnTransformer(\n",
    "        [('cat', categorical_encoder, categorical_features)])\n",
    "\n",
    "    lgbm = Pipeline([\n",
    "        ('preprocess', preprocessing),\n",
    "        ('classifier', LGBMClassifier(class_weight=\"balanced\", n_jobs=-1))\n",
    "    ])\n",
    "\n",
    "    lgbm.fit(X_train, y_train)\n",
    "    \n",
    "    print(\"LightGBM train accuracy: %0.3f\" % lgbm.score(X_train, y_train))\n",
    "    print(\"LightGBM test accuracy: %0.3f\" % lgbm.score(X_test, y_test))\n",
    "    print(\"LightGBM balanced test accuracy: %0.3f\" % balanced_accuracy_score(y_test, lgbm.predict(X_test)))\n",
    "    \n",
    "    return lgbm"
   ]
  },
  {
   "cell_type": "code",
   "execution_count": 102,
   "id": "1f338a56",
   "metadata": {},
   "outputs": [
    {
     "data": {
      "text/plain": [
       "122808    0\n",
       "122809    1\n",
       "122810    0\n",
       "122811    0\n",
       "122812    0\n",
       "         ..\n",
       "265116    0\n",
       "265117    0\n",
       "265118    0\n",
       "265119    0\n",
       "265120    0\n",
       "Name: corona_result, Length: 136294, dtype: int64"
      ]
     },
     "execution_count": 102,
     "metadata": {},
     "output_type": "execute_result"
    }
   ],
   "source": [
    "y = df_006[\"corona_result\"]\n",
    "y = y.map({\"negative\":0, \"positive\" : 1})\n",
    "y"
   ]
  },
  {
   "cell_type": "code",
   "execution_count": 103,
   "id": "c69655d3",
   "metadata": {},
   "outputs": [
    {
     "data": {
      "text/plain": [
       "Index(['cough', 'fever', 'sore_throat', 'shortness_of_breath', 'head_ache',\n",
       "       'corona_result', 'age_60_and_above', 'gender', 'test_indication'],\n",
       "      dtype='object')"
      ]
     },
     "execution_count": 103,
     "metadata": {},
     "output_type": "execute_result"
    }
   ],
   "source": [
    "df_006.columns"
   ]
  },
  {
   "cell_type": "code",
   "execution_count": 105,
   "id": "2d478d22",
   "metadata": {},
   "outputs": [
    {
     "data": {
      "text/plain": [
       "Index(['cough', 'fever', 'sore_throat', 'shortness_of_breath', 'head_ache',\n",
       "       'age_60_and_above', 'gender', 'test_indication'],\n",
       "      dtype='object')"
      ]
     },
     "execution_count": 105,
     "metadata": {},
     "output_type": "execute_result"
    }
   ],
   "source": [
    "X = df_006.drop(['corona_result'], axis = 1)\n",
    "categorical_features = X.columns\n",
    "categorical_features"
   ]
  },
  {
   "cell_type": "code",
   "execution_count": 106,
   "id": "2b293fbd",
   "metadata": {},
   "outputs": [],
   "source": [
    "X_train, X_test, y_train, y_test = train_test_split(X, y, test_size = 0.25)"
   ]
  },
  {
   "cell_type": "code",
   "execution_count": 115,
   "id": "c95d36d2",
   "metadata": {},
   "outputs": [
    {
     "name": "stdout",
     "output_type": "stream",
     "text": [
      "LightGBM train accuracy: 0.901\n",
      "LightGBM test accuracy: 0.903\n",
      "LightGBM balanced test accuracy: 0.868\n"
     ]
    }
   ],
   "source": [
    "lgbm = train_lgbm(X_train, X_test, y_train, y_test, categorical_features)\n"
   ]
  },
  {
   "cell_type": "code",
   "execution_count": 120,
   "id": "75902a5f",
   "metadata": {},
   "outputs": [
    {
     "name": "stdout",
     "output_type": "stream",
     "text": [
      "0.9222153458041454\n"
     ]
    }
   ],
   "source": [
    "from sklearn.metrics import roc_curve, auc, roc_auc_score\n",
    "fpr, tpr, _ = roc_curve(y_test, lgbm.predict_proba(X_test)[:,1])\n",
    "roc_auc= auc(fpr, tpr)\n",
    "print(roc_auc)"
   ]
  },
  {
   "cell_type": "code",
   "execution_count": 126,
   "id": "d9d5ea0a",
   "metadata": {},
   "outputs": [
    {
     "data": {
      "image/png": "[encoded data removed]",
      "text/plain": [
       "<Figure size 576x432 with 1 Axes>"
      ]
     },
     "metadata": {
      "needs_background": "light"
     },
     "output_type": "display_data"
    }
   ],
   "source": [
    "%matplotlib inline\n",
    "import matplotlib.pyplot as plt\n",
    "plt.figure(figsize=(8, 6))\n",
    "lw = 2\n",
    "plt.plot(fpr, tpr, color='C2',\n",
    "         lw=lw, label='lgbm')\n",
    "\n",
    "plt.plot([0, 1], [0, 1], color='navy', lw=lw, ls='--')\n",
    "plt.xlim([0, 1])\n",
    "plt.ylim([0, 1.05])\n",
    "plt.grid(visible=True)\n",
    "plt.xlabel('1-specificity', fontsize=12)\n",
    "plt.ylabel('Sensitivity', fontsize=12)\n",
    "plt.legend(fontsize=12)\n",
    "\n",
    "plt.show()"
   ]
  },
  {
   "cell_type": "code",
   "execution_count": 122,
   "id": "9df7db4d",
   "metadata": {},
   "outputs": [
    {
     "data": {
      "image/png": "[encoded data removed]",
      "text/plain": [
       "<Figure size 432x288 with 1 Axes>"
      ]
     },
     "metadata": {
      "needs_background": "light"
     },
     "output_type": "display_data"
    }
   ],
   "source": [
    "from sklearn.metrics import PrecisionRecallDisplay\n",
    "\n",
    "display = PrecisionRecallDisplay.from_estimator(\n",
    "    lgbm, X_test, y_test, \n",
    ")\n",
    "_ = display.ax_.set_title(\"Precision-Recall curve\")"
   ]
  }
 ],
 "metadata": {
  "kernelspec": {
   "display_name": "Python 3 (ipykernel)",
   "language": "python",
   "name": "python3"
  },
  "language_info": {
   "codemirror_mode": {
    "name": "ipython",
    "version": 3
   },
   "file_extension": ".py",
   "mimetype": "text/x-python",
   "name": "python",
   "nbconvert_exporter": "python",
   "pygments_lexer": "ipython3",
   "version": "3.7.3"
  }
 },
 "nbformat": 4,
 "nbformat_minor": 5
}
