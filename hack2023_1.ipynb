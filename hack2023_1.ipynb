{
 "cells": [
  {
   "cell_type": "code",
   "execution_count": 2,
   "id": "8af8c507",
   "metadata": {},
   "outputs": [],
   "source": [
    "#import all libraries \n",
    "import pandas as pd\n",
    "import numpy as np\n",
    "from lightgbm.sklearn import LGBMClassifier\n",
    "from sklearn.model_selection import train_test_split\n",
    "\n"
   ]
  },
  {
   "cell_type": "code",
   "execution_count": 69,
   "id": "bf6c0830",
   "metadata": {},
   "outputs": [
    {
     "name": "stderr",
     "output_type": "stream",
     "text": [
      "c:\\python3.7.3\\lib\\site-packages\\IPython\\core\\interactiveshell.py:3173: DtypeWarning: Columns (1,2,3,4,5) have mixed types.Specify dtype option on import or set low_memory=False.\n",
      "  interactivity=interactivity, compiler=compiler, result=result)\n"
     ]
    },
    {
     "data": {
      "text/html": [
       "<div>\n",
       "<style scoped>\n",
       "    .dataframe tbody tr th:only-of-type {\n",
       "        vertical-align: middle;\n",
       "    }\n",
       "\n",
       "    .dataframe tbody tr th {\n",
       "        vertical-align: top;\n",
       "    }\n",
       "\n",
       "    .dataframe thead th {\n",
       "        text-align: right;\n",
       "    }\n",
       "</style>\n",
       "<table border=\"1\" class=\"dataframe\">\n",
       "  <thead>\n",
       "    <tr style=\"text-align: right;\">\n",
       "      <th></th>\n",
       "      <th>test_date</th>\n",
       "      <th>cough</th>\n",
       "      <th>fever</th>\n",
       "      <th>sore_throat</th>\n",
       "      <th>shortness_of_breath</th>\n",
       "      <th>head_ache</th>\n",
       "      <th>corona_result</th>\n",
       "      <th>age_60_and_above</th>\n",
       "      <th>gender</th>\n",
       "      <th>test_indication</th>\n",
       "    </tr>\n",
       "  </thead>\n",
       "  <tbody>\n",
       "    <tr>\n",
       "      <th>0</th>\n",
       "      <td>2020-04-30</td>\n",
       "      <td>0</td>\n",
       "      <td>0</td>\n",
       "      <td>0</td>\n",
       "      <td>0</td>\n",
       "      <td>0</td>\n",
       "      <td>negative</td>\n",
       "      <td>None</td>\n",
       "      <td>female</td>\n",
       "      <td>Other</td>\n",
       "    </tr>\n",
       "    <tr>\n",
       "      <th>1</th>\n",
       "      <td>2020-04-30</td>\n",
       "      <td>1</td>\n",
       "      <td>0</td>\n",
       "      <td>0</td>\n",
       "      <td>0</td>\n",
       "      <td>0</td>\n",
       "      <td>negative</td>\n",
       "      <td>None</td>\n",
       "      <td>female</td>\n",
       "      <td>Other</td>\n",
       "    </tr>\n",
       "    <tr>\n",
       "      <th>2</th>\n",
       "      <td>2020-04-30</td>\n",
       "      <td>0</td>\n",
       "      <td>1</td>\n",
       "      <td>0</td>\n",
       "      <td>0</td>\n",
       "      <td>0</td>\n",
       "      <td>negative</td>\n",
       "      <td>None</td>\n",
       "      <td>male</td>\n",
       "      <td>Other</td>\n",
       "    </tr>\n",
       "    <tr>\n",
       "      <th>3</th>\n",
       "      <td>2020-04-30</td>\n",
       "      <td>1</td>\n",
       "      <td>0</td>\n",
       "      <td>0</td>\n",
       "      <td>0</td>\n",
       "      <td>0</td>\n",
       "      <td>negative</td>\n",
       "      <td>None</td>\n",
       "      <td>female</td>\n",
       "      <td>Other</td>\n",
       "    </tr>\n",
       "    <tr>\n",
       "      <th>4</th>\n",
       "      <td>2020-04-30</td>\n",
       "      <td>1</td>\n",
       "      <td>0</td>\n",
       "      <td>0</td>\n",
       "      <td>0</td>\n",
       "      <td>0</td>\n",
       "      <td>negative</td>\n",
       "      <td>None</td>\n",
       "      <td>male</td>\n",
       "      <td>Other</td>\n",
       "    </tr>\n",
       "  </tbody>\n",
       "</table>\n",
       "</div>"
      ],
      "text/plain": [
       "    test_date cough fever sore_throat shortness_of_breath head_ache  \\\n",
       "0  2020-04-30     0     0           0                   0         0   \n",
       "1  2020-04-30     1     0           0                   0         0   \n",
       "2  2020-04-30     0     1           0                   0         0   \n",
       "3  2020-04-30     1     0           0                   0         0   \n",
       "4  2020-04-30     1     0           0                   0         0   \n",
       "\n",
       "  corona_result age_60_and_above  gender test_indication  \n",
       "0      negative             None  female           Other  \n",
       "1      negative             None  female           Other  \n",
       "2      negative             None    male           Other  \n",
       "3      negative             None  female           Other  \n",
       "4      negative             None    male           Other  "
      ]
     },
     "execution_count": 69,
     "metadata": {},
     "output_type": "execute_result"
    }
   ],
   "source": [
    "# read the dataset using the compression zip\n",
    "df_006 = pd.read_csv('data/corona_tested_individuals_ver_006.english.csv.zip',compression='zip')\n",
    "df_006.head()"
   ]
  },
  {
   "cell_type": "code",
   "execution_count": 4,
   "id": "88f190f5",
   "metadata": {},
   "outputs": [
    {
     "name": "stderr",
     "output_type": "stream",
     "text": [
      "c:\\python3.7.3\\lib\\site-packages\\IPython\\core\\interactiveshell.py:3173: DtypeWarning: Columns (7) have mixed types.Specify dtype option on import or set low_memory=False.\n",
      "  interactivity=interactivity, compiler=compiler, result=result)\n"
     ]
    },
    {
     "data": {
      "text/html": [
       "<div>\n",
       "<style scoped>\n",
       "    .dataframe tbody tr th:only-of-type {\n",
       "        vertical-align: middle;\n",
       "    }\n",
       "\n",
       "    .dataframe tbody tr th {\n",
       "        vertical-align: top;\n",
       "    }\n",
       "\n",
       "    .dataframe thead th {\n",
       "        text-align: right;\n",
       "    }\n",
       "</style>\n",
       "<table border=\"1\" class=\"dataframe\">\n",
       "  <thead>\n",
       "    <tr style=\"text-align: right;\">\n",
       "      <th></th>\n",
       "      <th>test_date</th>\n",
       "      <th>cough</th>\n",
       "      <th>fever</th>\n",
       "      <th>sore_throat</th>\n",
       "      <th>shortness_of_breath</th>\n",
       "      <th>head_ache</th>\n",
       "      <th>corona_result</th>\n",
       "      <th>age_60_and_above</th>\n",
       "      <th>gender</th>\n",
       "      <th>test_indication</th>\n",
       "    </tr>\n",
       "  </thead>\n",
       "  <tbody>\n",
       "    <tr>\n",
       "      <th>0</th>\n",
       "      <td>2020-11-12</td>\n",
       "      <td>0</td>\n",
       "      <td>0</td>\n",
       "      <td>0</td>\n",
       "      <td>0</td>\n",
       "      <td>0</td>\n",
       "      <td>negative</td>\n",
       "      <td>No</td>\n",
       "      <td>male</td>\n",
       "      <td>Other</td>\n",
       "    </tr>\n",
       "    <tr>\n",
       "      <th>1</th>\n",
       "      <td>2020-11-12</td>\n",
       "      <td>0</td>\n",
       "      <td>1</td>\n",
       "      <td>0</td>\n",
       "      <td>0</td>\n",
       "      <td>0</td>\n",
       "      <td>negative</td>\n",
       "      <td>No</td>\n",
       "      <td>male</td>\n",
       "      <td>Other</td>\n",
       "    </tr>\n",
       "    <tr>\n",
       "      <th>2</th>\n",
       "      <td>2020-11-12</td>\n",
       "      <td>0</td>\n",
       "      <td>0</td>\n",
       "      <td>0</td>\n",
       "      <td>0</td>\n",
       "      <td>0</td>\n",
       "      <td>negative</td>\n",
       "      <td>Yes</td>\n",
       "      <td>female</td>\n",
       "      <td>Other</td>\n",
       "    </tr>\n",
       "    <tr>\n",
       "      <th>3</th>\n",
       "      <td>2020-11-12</td>\n",
       "      <td>0</td>\n",
       "      <td>0</td>\n",
       "      <td>0</td>\n",
       "      <td>0</td>\n",
       "      <td>0</td>\n",
       "      <td>negative</td>\n",
       "      <td>No</td>\n",
       "      <td>male</td>\n",
       "      <td>Other</td>\n",
       "    </tr>\n",
       "    <tr>\n",
       "      <th>4</th>\n",
       "      <td>2020-11-12</td>\n",
       "      <td>0</td>\n",
       "      <td>1</td>\n",
       "      <td>0</td>\n",
       "      <td>0</td>\n",
       "      <td>0</td>\n",
       "      <td>negative</td>\n",
       "      <td>No</td>\n",
       "      <td>male</td>\n",
       "      <td>Contact with confirmed</td>\n",
       "    </tr>\n",
       "  </tbody>\n",
       "</table>\n",
       "</div>"
      ],
      "text/plain": [
       "    test_date  cough  fever  sore_throat  shortness_of_breath  head_ache  \\\n",
       "0  2020-11-12      0      0            0                    0          0   \n",
       "1  2020-11-12      0      1            0                    0          0   \n",
       "2  2020-11-12      0      0            0                    0          0   \n",
       "3  2020-11-12      0      0            0                    0          0   \n",
       "4  2020-11-12      0      1            0                    0          0   \n",
       "\n",
       "  corona_result age_60_and_above  gender         test_indication  \n",
       "0      negative               No    male                   Other  \n",
       "1      negative               No    male                   Other  \n",
       "2      negative              Yes  female                   Other  \n",
       "3      negative               No    male                   Other  \n",
       "4      negative               No    male  Contact with confirmed  "
      ]
     },
     "execution_count": 4,
     "metadata": {},
     "output_type": "execute_result"
    }
   ],
   "source": [
    "df_0083 = pd.read_csv('data/corona_tested_individuals_ver_0083.english.csv')\n",
    "df_0083.head()"
   ]
  },
  {
   "cell_type": "code",
   "execution_count": 7,
   "id": "19985fc1",
   "metadata": {},
   "outputs": [
    {
     "data": {
      "text/plain": [
       "test_date              object\n",
       "cough                  object\n",
       "fever                  object\n",
       "sore_throat            object\n",
       "shortness_of_breath    object\n",
       "head_ache              object\n",
       "corona_result          object\n",
       "age_60_and_above       object\n",
       "gender                 object\n",
       "test_indication        object\n",
       "dtype: object"
      ]
     },
     "execution_count": 7,
     "metadata": {},
     "output_type": "execute_result"
    }
   ],
   "source": [
    "df_006.dtypes"
   ]
  },
  {
   "cell_type": "code",
   "execution_count": 8,
   "id": "7f377115",
   "metadata": {},
   "outputs": [
    {
     "data": {
      "text/plain": [
       "<bound method DataFrame.info of          test_date cough fever sore_throat shortness_of_breath head_ache  \\\n",
       "0       2020-04-30     0     0           0                   0         0   \n",
       "1       2020-04-30     1     0           0                   0         0   \n",
       "2       2020-04-30     0     1           0                   0         0   \n",
       "3       2020-04-30     1     0           0                   0         0   \n",
       "4       2020-04-30     1     0           0                   0         0   \n",
       "...            ...   ...   ...         ...                 ...       ...   \n",
       "278843  2020-03-11     0     0           0                   0         0   \n",
       "278844  2020-03-11     0     0           0                   0         0   \n",
       "278845  2020-03-11     0     0           0                   0         0   \n",
       "278846  2020-03-11     0     0           0                   0         0   \n",
       "278847  2020-03-11     0     0           0                   0         0   \n",
       "\n",
       "       corona_result age_60_and_above  gender         test_indication  \n",
       "0           negative             None  female                   Other  \n",
       "1           negative             None  female                   Other  \n",
       "2           negative             None    male                   Other  \n",
       "3           negative             None  female                   Other  \n",
       "4           negative             None    male                   Other  \n",
       "...              ...              ...     ...                     ...  \n",
       "278843      negative             None    None                   Other  \n",
       "278844      negative             None    None                   Other  \n",
       "278845      positive             None    None  Contact with confirmed  \n",
       "278846         other             None    None                   Other  \n",
       "278847      negative             None    None                   Other  \n",
       "\n",
       "[278848 rows x 10 columns]>"
      ]
     },
     "execution_count": 8,
     "metadata": {},
     "output_type": "execute_result"
    }
   ],
   "source": [
    "df_006.info"
   ]
  },
  {
   "cell_type": "code",
   "execution_count": 10,
   "id": "3af6ef7e",
   "metadata": {},
   "outputs": [
    {
     "data": {
      "text/plain": [
       "<bound method DataFrame.info of          test_date cough fever sore_throat shortness_of_breath head_ache  \\\n",
       "211278  2020-03-31     0     0           0                   0         0   \n",
       "211279  2020-03-31     0     0           0                   0         0   \n",
       "211280  2020-03-31     0     0           0                   0         0   \n",
       "211281  2020-03-31     0     0           0                   0         0   \n",
       "211282  2020-03-31     1     0           0                   0         0   \n",
       "...            ...   ...   ...         ...                 ...       ...   \n",
       "265116  2020-03-22     1     1           0                   0         0   \n",
       "265117  2020-03-22     1     1           1                   0         1   \n",
       "265118  2020-03-22     1     0           0                   0         0   \n",
       "265119  2020-03-22     1     0           0                   0         0   \n",
       "265120  2020-03-22     1     0           0                   0         0   \n",
       "\n",
       "       corona_result age_60_and_above  gender test_indication  \n",
       "211278      negative               No    male           Other  \n",
       "211279      negative               No  female           Other  \n",
       "211280      negative               No    male           Other  \n",
       "211281      positive               No  female           Other  \n",
       "211282      negative               No    male          Abroad  \n",
       "...              ...              ...     ...             ...  \n",
       "265116      negative              Yes  female          Abroad  \n",
       "265117      negative               No  female          Abroad  \n",
       "265118      negative               No  female          Abroad  \n",
       "265119      negative               No    male           Other  \n",
       "265120      negative               No    male           Other  \n",
       "\n",
       "[53843 rows x 10 columns]>"
      ]
     },
     "execution_count": 10,
     "metadata": {},
     "output_type": "execute_result"
    }
   ],
   "source": [
    "df_006_train_val = df_006.loc[(df_006['test_date'] >= '2020-03-22') & (df_006['test_date'] <= '2020-03-31')]\n",
    "df_006_train_val.info"
   ]
  },
  {
   "cell_type": "code",
   "execution_count": 16,
   "id": "04c62a78",
   "metadata": {},
   "outputs": [
    {
     "data": {
      "text/plain": [
       "<bound method DataFrame.info of         test_date cough fever sore_throat shortness_of_breath head_ache  \\\n",
       "211278 2020-03-31     0     0           0                   0         0   \n",
       "211279 2020-03-31     0     0           0                   0         0   \n",
       "211280 2020-03-31     0     0           0                   0         0   \n",
       "211281 2020-03-31     0     0           0                   0         0   \n",
       "211282 2020-03-31     1     0           0                   0         0   \n",
       "...           ...   ...   ...         ...                 ...       ...   \n",
       "265116 2020-03-22     1     1           0                   0         0   \n",
       "265117 2020-03-22     1     1           1                   0         1   \n",
       "265118 2020-03-22     1     0           0                   0         0   \n",
       "265119 2020-03-22     1     0           0                   0         0   \n",
       "265120 2020-03-22     1     0           0                   0         0   \n",
       "\n",
       "       corona_result age_60_and_above  gender test_indication  \n",
       "211278      negative               No    male           Other  \n",
       "211279      negative               No  female           Other  \n",
       "211280      negative               No    male           Other  \n",
       "211281      positive               No  female           Other  \n",
       "211282      negative               No    male          Abroad  \n",
       "...              ...              ...     ...             ...  \n",
       "265116      negative              Yes  female          Abroad  \n",
       "265117      negative               No  female          Abroad  \n",
       "265118      negative               No  female          Abroad  \n",
       "265119      negative               No    male           Other  \n",
       "265120      negative               No    male           Other  \n",
       "\n",
       "[53843 rows x 10 columns]>"
      ]
     },
     "execution_count": 16,
     "metadata": {},
     "output_type": "execute_result"
    }
   ],
   "source": [
    "df_006['test_date'] = pd.to_datetime(df_006['test_date'], format='%Y-%m-%d')\n",
    "df_006_train_val = df_006.loc[(df_006['test_date'] >= '2020-03-22') & (df_006['test_date'] <= '2020-03-31')]\n",
    "df_006_train_val.info"
   ]
  },
  {
   "cell_type": "code",
   "execution_count": 24,
   "id": "794f8d28",
   "metadata": {},
   "outputs": [
    {
     "data": {
      "text/plain": [
       "False"
      ]
     },
     "execution_count": 24,
     "metadata": {},
     "output_type": "execute_result"
    }
   ],
   "source": [
    "nan_in_data = df_006.isna().sum().any()\n",
    "nan_in_data"
   ]
  },
  {
   "cell_type": "code",
   "execution_count": 34,
   "id": "0f57ddef",
   "metadata": {},
   "outputs": [
    {
     "data": {
      "text/plain": [
       "Index(['test_date', 'cough', 'fever', 'sore_throat', 'shortness_of_breath',\n",
       "       'head_ache', 'corona_result', 'age_60_and_above', 'gender',\n",
       "       'test_indication'],\n",
       "      dtype='object')"
      ]
     },
     "execution_count": 34,
     "metadata": {},
     "output_type": "execute_result"
    }
   ],
   "source": [
    "df_006.columns\n"
   ]
  },
  {
   "cell_type": "code",
   "execution_count": 70,
   "id": "130fd6e4",
   "metadata": {},
   "outputs": [
    {
     "data": {
      "text/plain": [
       "array([0, 1, '0', '1', 'None'], dtype=object)"
      ]
     },
     "execution_count": 70,
     "metadata": {},
     "output_type": "execute_result"
    }
   ],
   "source": [
    "pd.unique(df_006['cough'])\n"
   ]
  },
  {
   "cell_type": "code",
   "execution_count": 88,
   "id": "60467299",
   "metadata": {},
   "outputs": [
    {
     "name": "stdout",
     "output_type": "stream",
     "text": [
      "[0 1]\n",
      "[0 1]\n",
      "[0 1]\n",
      "[0 1]\n",
      "[0 1]\n"
     ]
    },
    {
     "data": {
      "text/plain": [
       "cough                  int64\n",
       "fever                  int64\n",
       "sore_throat            int64\n",
       "shortness_of_breath    int64\n",
       "head_ache              int64\n",
       "dtype: object"
      ]
     },
     "execution_count": 88,
     "metadata": {},
     "output_type": "execute_result"
    }
   ],
   "source": [
    "num_columns = ['cough', 'fever', 'sore_throat', 'shortness_of_breath',\n",
    "       'head_ache']\n",
    "for i in num_columns:\n",
    "    df_006 = df_006[df_006[i] != 'None']\n",
    "    print (pd.unique(df_006[i]))\n",
    "df_006[num_columns] = df_006[num_columns].apply(pd.to_numeric)\n",
    "df_006[num_columns] .dtypes"
   ]
  },
  {
   "cell_type": "code",
   "execution_count": 89,
   "id": "112f9e15",
   "metadata": {},
   "outputs": [
    {
     "data": {
      "text/plain": [
       "<bound method DataFrame.info of          test_date  cough  fever  sore_throat  shortness_of_breath  head_ache  \\\n",
       "0       2020-04-30      0      0            0                    0          0   \n",
       "1       2020-04-30      1      0            0                    0          0   \n",
       "2       2020-04-30      0      1            0                    0          0   \n",
       "3       2020-04-30      1      0            0                    0          0   \n",
       "4       2020-04-30      1      0            0                    0          0   \n",
       "...            ...    ...    ...          ...                  ...        ...   \n",
       "278843  2020-03-11      0      0            0                    0          0   \n",
       "278844  2020-03-11      0      0            0                    0          0   \n",
       "278845  2020-03-11      0      0            0                    0          0   \n",
       "278846  2020-03-11      0      0            0                    0          0   \n",
       "278847  2020-03-11      0      0            0                    0          0   \n",
       "\n",
       "       corona_result age_60_and_above  gender         test_indication  \n",
       "0           negative             None  female                   Other  \n",
       "1           negative             None  female                   Other  \n",
       "2           negative             None    male                   Other  \n",
       "3           negative             None  female                   Other  \n",
       "4           negative             None    male                   Other  \n",
       "...              ...              ...     ...                     ...  \n",
       "278843      negative             None    None                   Other  \n",
       "278844      negative             None    None                   Other  \n",
       "278845      positive             None    None  Contact with confirmed  \n",
       "278846         other             None    None                   Other  \n",
       "278847      negative             None    None                   Other  \n",
       "\n",
       "[278594 rows x 10 columns]>"
      ]
     },
     "execution_count": 89,
     "metadata": {},
     "output_type": "execute_result"
    }
   ],
   "source": [
    "df_006.info"
   ]
  },
  {
   "cell_type": "code",
   "execution_count": 92,
   "id": "c906f848",
   "metadata": {},
   "outputs": [],
   "source": [
    "cat_columns = ['corona_result', 'age_60_and_above', 'gender',\n",
    "       'test_indication']"
   ]
  },
  {
   "cell_type": "code",
   "execution_count": 93,
   "id": "5b65f9d2",
   "metadata": {},
   "outputs": [
    {
     "name": "stdout",
     "output_type": "stream",
     "text": [
      "['negative' 'positive' 'other']\n",
      "['Yes' 'No']\n",
      "['male' 'female']\n",
      "['Other' 'Abroad' 'Contact with confirmed']\n"
     ]
    }
   ],
   "source": [
    "for i in cat_columns:\n",
    "    df_006 = df_006[df_006[i] != 'None']\n",
    "    print (pd.unique(df_006[i]))"
   ]
  },
  {
   "cell_type": "code",
   "execution_count": 95,
   "id": "20bad988",
   "metadata": {},
   "outputs": [],
   "source": [
    "df_006 = df_006[df_006['corona_result'] != 'other']"
   ]
  },
  {
   "cell_type": "code",
   "execution_count": 96,
   "id": "14cbbda7",
   "metadata": {},
   "outputs": [
    {
     "data": {
      "text/plain": [
       "<bound method DataFrame.info of          test_date  cough  fever  sore_throat  shortness_of_breath  head_ache  \\\n",
       "211278  2020-03-31      0      0            0                    0          0   \n",
       "211279  2020-03-31      0      0            0                    0          0   \n",
       "211280  2020-03-31      0      0            0                    0          0   \n",
       "211281  2020-03-31      0      0            0                    0          0   \n",
       "211282  2020-03-31      1      0            0                    0          0   \n",
       "...            ...    ...    ...          ...                  ...        ...   \n",
       "265116  2020-03-22      1      1            0                    0          0   \n",
       "265117  2020-03-22      1      1            1                    0          1   \n",
       "265118  2020-03-22      1      0            0                    0          0   \n",
       "265119  2020-03-22      1      0            0                    0          0   \n",
       "265120  2020-03-22      1      0            0                    0          0   \n",
       "\n",
       "       corona_result age_60_and_above  gender test_indication  \n",
       "211278      negative               No    male           Other  \n",
       "211279      negative               No  female           Other  \n",
       "211280      negative               No    male           Other  \n",
       "211281      positive               No  female           Other  \n",
       "211282      negative               No    male          Abroad  \n",
       "...              ...              ...     ...             ...  \n",
       "265116      negative              Yes  female          Abroad  \n",
       "265117      negative               No  female          Abroad  \n",
       "265118      negative               No  female          Abroad  \n",
       "265119      negative               No    male           Other  \n",
       "265120      negative               No    male           Other  \n",
       "\n",
       "[51814 rows x 10 columns]>"
      ]
     },
     "execution_count": 96,
     "metadata": {},
     "output_type": "execute_result"
    }
   ],
   "source": [
    "df_006_train_val = df_006.loc[(df_006['test_date'] >= '2020-03-22') & (df_006['test_date'] <= '2020-03-31')]\n",
    "df_006_train_val.info"
   ]
  },
  {
   "cell_type": "code",
   "execution_count": 77,
   "id": "a815a86b",
   "metadata": {},
   "outputs": [],
   "source": []
  }
 ],
 "metadata": {
  "kernelspec": {
   "display_name": "Python 3 (ipykernel)",
   "language": "python",
   "name": "python3"
  },
  "language_info": {
   "codemirror_mode": {
    "name": "ipython",
    "version": 3
   },
   "file_extension": ".py",
   "mimetype": "text/x-python",
   "name": "python",
   "nbconvert_exporter": "python",
   "pygments_lexer": "ipython3",
   "version": "3.7.3"
  }
 },
 "nbformat": 4,
 "nbformat_minor": 5
}
