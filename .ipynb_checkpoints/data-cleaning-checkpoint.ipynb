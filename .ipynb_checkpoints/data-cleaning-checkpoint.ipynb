{
 "cells": [
  {
   "cell_type": "markdown",
   "metadata": {},
   "source": [
    "# Data Cleaning Notebook"
   ]
  },
  {
   "cell_type": "code",
   "execution_count": 8,
   "metadata": {
    "scrolled": true
   },
   "outputs": [],
   "source": [
    "import pandas as pd\n",
    "import numpy as np\n",
    "from sklearn.preprocessing import OneHotEncoder"
   ]
  },
  {
   "cell_type": "code",
   "execution_count": 9,
   "metadata": {},
   "outputs": [
    {
     "name": "stderr",
     "output_type": "stream",
     "text": [
      "C:\\Users\\joshp\\AppData\\Local\\Temp\\ipykernel_28904\\1587404722.py:2: DtypeWarning: Columns (1,2,3,4,5) have mixed types. Specify dtype option on import or set low_memory=False.\n",
      "  df_006 = pd.read_csv('data/corona_tested_individuals_ver_006.english.csv')\n",
      "C:\\Users\\joshp\\AppData\\Local\\Temp\\ipykernel_28904\\1587404722.py:3: DtypeWarning: Columns (7) have mixed types. Specify dtype option on import or set low_memory=False.\n",
      "  df_0083 = pd.read_csv('data/corona_tested_individuals_ver_0083.english.csv')\n"
     ]
    }
   ],
   "source": [
    "# read the dataset using the compression zip\n",
    "df_006 = pd.read_csv('data/corona_tested_individuals_ver_006.english.csv')\n",
    "df_0083 = pd.read_csv('data/corona_tested_individuals_ver_0083.english.csv')"
   ]
  },
  {
   "cell_type": "code",
   "execution_count": 6,
   "metadata": {},
   "outputs": [
    {
     "data": {
      "text/plain": [
       "test_date              object\n",
       "cough                  object\n",
       "fever                  object\n",
       "sore_throat            object\n",
       "shortness_of_breath    object\n",
       "head_ache              object\n",
       "corona_result          object\n",
       "age_60_and_above       object\n",
       "gender                 object\n",
       "test_indication        object\n",
       "dtype: object"
      ]
     },
     "execution_count": 6,
     "metadata": {},
     "output_type": "execute_result"
    }
   ],
   "source": [
    "df_006.dtypes"
   ]
  },
  {
   "cell_type": "code",
   "execution_count": 22,
   "metadata": {},
   "outputs": [],
   "source": [
    "def convertStrToDate(df,columns):\n",
    "    \"\"\"\n",
    "    Converts columns from the list of provided column names \n",
    "    into datetime64[ns] dtype.\n",
    "    \n",
    "    Returns: pd.DataFrame\n",
    "    \n",
    "    \"\"\"\n",
    "    _df = df.copy()\n",
    "    \n",
    "    for col in columns:\n",
    "        _df[col] = pd.to_datetime(_df[col])\n",
    "        \n",
    "    return _df\n",
    "    "
   ]
  },
  {
   "cell_type": "code",
   "execution_count": 17,
   "metadata": {},
   "outputs": [],
   "source": [
    "df = convertStrToDate(df_006,[\"test_date\"])"
   ]
  },
  {
   "cell_type": "markdown",
   "metadata": {},
   "source": [
    "## Renaming features"
   ]
  },
  {
   "cell_type": "code",
   "execution_count": 29,
   "metadata": {},
   "outputs": [],
   "source": [
    "df['covid_result'] = df['corona_result'].map({\n",
    "    'negative':0,\n",
    "    'positive':1,\n",
    "    'other':-1\n",
    "})"
   ]
  },
  {
   "cell_type": "code",
   "execution_count": 32,
   "metadata": {},
   "outputs": [],
   "source": [
    "df['close_contact'] = df['test_indication'].map(lambda x: 1 if x == 'Contact with confirmed' else 0)"
   ]
  },
  {
   "cell_type": "code",
   "execution_count": 36,
   "metadata": {},
   "outputs": [],
   "source": [
    "def convertColumnsToInt(df,columns):\n",
    "    _df = df.copy()\n",
    "    for col in columns:\n",
    "        _df[col] = _df[col].astype('int64')\n",
    "        \n",
    "    return _df"
   ]
  },
  {
   "cell_type": "code",
   "execution_count": 35,
   "metadata": {},
   "outputs": [
    {
     "data": {
      "text/html": [
       "<div>\n",
       "<style scoped>\n",
       "    .dataframe tbody tr th:only-of-type {\n",
       "        vertical-align: middle;\n",
       "    }\n",
       "\n",
       "    .dataframe tbody tr th {\n",
       "        vertical-align: top;\n",
       "    }\n",
       "\n",
       "    .dataframe thead th {\n",
       "        text-align: right;\n",
       "    }\n",
       "</style>\n",
       "<table border=\"1\" class=\"dataframe\">\n",
       "  <thead>\n",
       "    <tr style=\"text-align: right;\">\n",
       "      <th></th>\n",
       "      <th>test_date</th>\n",
       "      <th>cough</th>\n",
       "      <th>fever</th>\n",
       "      <th>sore_throat</th>\n",
       "      <th>shortness_of_breath</th>\n",
       "      <th>head_ache</th>\n",
       "      <th>corona_result</th>\n",
       "      <th>age_60_and_above</th>\n",
       "      <th>gender</th>\n",
       "      <th>test_indication</th>\n",
       "      <th>covid_result</th>\n",
       "      <th>close_contact</th>\n",
       "    </tr>\n",
       "  </thead>\n",
       "  <tbody>\n",
       "    <tr>\n",
       "      <th>9</th>\n",
       "      <td>2020-04-30</td>\n",
       "      <td>0</td>\n",
       "      <td>0</td>\n",
       "      <td>0</td>\n",
       "      <td>0</td>\n",
       "      <td>0</td>\n",
       "      <td>negative</td>\n",
       "      <td>None</td>\n",
       "      <td>male</td>\n",
       "      <td>Contact with confirmed</td>\n",
       "      <td>0</td>\n",
       "      <td>1</td>\n",
       "    </tr>\n",
       "    <tr>\n",
       "      <th>23</th>\n",
       "      <td>2020-04-30</td>\n",
       "      <td>1</td>\n",
       "      <td>0</td>\n",
       "      <td>0</td>\n",
       "      <td>0</td>\n",
       "      <td>0</td>\n",
       "      <td>negative</td>\n",
       "      <td>None</td>\n",
       "      <td>male</td>\n",
       "      <td>Contact with confirmed</td>\n",
       "      <td>0</td>\n",
       "      <td>1</td>\n",
       "    </tr>\n",
       "    <tr>\n",
       "      <th>41</th>\n",
       "      <td>2020-04-30</td>\n",
       "      <td>1</td>\n",
       "      <td>0</td>\n",
       "      <td>0</td>\n",
       "      <td>0</td>\n",
       "      <td>0</td>\n",
       "      <td>positive</td>\n",
       "      <td>None</td>\n",
       "      <td>male</td>\n",
       "      <td>Contact with confirmed</td>\n",
       "      <td>1</td>\n",
       "      <td>1</td>\n",
       "    </tr>\n",
       "    <tr>\n",
       "      <th>103</th>\n",
       "      <td>2020-04-30</td>\n",
       "      <td>0</td>\n",
       "      <td>0</td>\n",
       "      <td>0</td>\n",
       "      <td>0</td>\n",
       "      <td>0</td>\n",
       "      <td>positive</td>\n",
       "      <td>None</td>\n",
       "      <td>female</td>\n",
       "      <td>Contact with confirmed</td>\n",
       "      <td>1</td>\n",
       "      <td>1</td>\n",
       "    </tr>\n",
       "    <tr>\n",
       "      <th>120</th>\n",
       "      <td>2020-04-30</td>\n",
       "      <td>0</td>\n",
       "      <td>0</td>\n",
       "      <td>0</td>\n",
       "      <td>0</td>\n",
       "      <td>0</td>\n",
       "      <td>positive</td>\n",
       "      <td>None</td>\n",
       "      <td>male</td>\n",
       "      <td>Contact with confirmed</td>\n",
       "      <td>1</td>\n",
       "      <td>1</td>\n",
       "    </tr>\n",
       "    <tr>\n",
       "      <th>...</th>\n",
       "      <td>...</td>\n",
       "      <td>...</td>\n",
       "      <td>...</td>\n",
       "      <td>...</td>\n",
       "      <td>...</td>\n",
       "      <td>...</td>\n",
       "      <td>...</td>\n",
       "      <td>...</td>\n",
       "      <td>...</td>\n",
       "      <td>...</td>\n",
       "      <td>...</td>\n",
       "      <td>...</td>\n",
       "    </tr>\n",
       "    <tr>\n",
       "      <th>278827</th>\n",
       "      <td>2020-03-11</td>\n",
       "      <td>0</td>\n",
       "      <td>0</td>\n",
       "      <td>0</td>\n",
       "      <td>0</td>\n",
       "      <td>0</td>\n",
       "      <td>negative</td>\n",
       "      <td>None</td>\n",
       "      <td>None</td>\n",
       "      <td>Contact with confirmed</td>\n",
       "      <td>0</td>\n",
       "      <td>1</td>\n",
       "    </tr>\n",
       "    <tr>\n",
       "      <th>278828</th>\n",
       "      <td>2020-03-11</td>\n",
       "      <td>0</td>\n",
       "      <td>0</td>\n",
       "      <td>0</td>\n",
       "      <td>0</td>\n",
       "      <td>0</td>\n",
       "      <td>negative</td>\n",
       "      <td>None</td>\n",
       "      <td>None</td>\n",
       "      <td>Contact with confirmed</td>\n",
       "      <td>0</td>\n",
       "      <td>1</td>\n",
       "    </tr>\n",
       "    <tr>\n",
       "      <th>278830</th>\n",
       "      <td>2020-03-11</td>\n",
       "      <td>0</td>\n",
       "      <td>1</td>\n",
       "      <td>0</td>\n",
       "      <td>0</td>\n",
       "      <td>0</td>\n",
       "      <td>positive</td>\n",
       "      <td>None</td>\n",
       "      <td>None</td>\n",
       "      <td>Contact with confirmed</td>\n",
       "      <td>1</td>\n",
       "      <td>1</td>\n",
       "    </tr>\n",
       "    <tr>\n",
       "      <th>278836</th>\n",
       "      <td>2020-03-11</td>\n",
       "      <td>0</td>\n",
       "      <td>0</td>\n",
       "      <td>0</td>\n",
       "      <td>0</td>\n",
       "      <td>0</td>\n",
       "      <td>positive</td>\n",
       "      <td>None</td>\n",
       "      <td>None</td>\n",
       "      <td>Contact with confirmed</td>\n",
       "      <td>1</td>\n",
       "      <td>1</td>\n",
       "    </tr>\n",
       "    <tr>\n",
       "      <th>278845</th>\n",
       "      <td>2020-03-11</td>\n",
       "      <td>0</td>\n",
       "      <td>0</td>\n",
       "      <td>0</td>\n",
       "      <td>0</td>\n",
       "      <td>0</td>\n",
       "      <td>positive</td>\n",
       "      <td>None</td>\n",
       "      <td>None</td>\n",
       "      <td>Contact with confirmed</td>\n",
       "      <td>1</td>\n",
       "      <td>1</td>\n",
       "    </tr>\n",
       "  </tbody>\n",
       "</table>\n",
       "<p>10639 rows × 12 columns</p>\n",
       "</div>"
      ],
      "text/plain": [
       "        test_date cough fever sore_throat shortness_of_breath head_ache  \\\n",
       "9      2020-04-30     0     0           0                   0         0   \n",
       "23     2020-04-30     1     0           0                   0         0   \n",
       "41     2020-04-30     1     0           0                   0         0   \n",
       "103    2020-04-30     0     0           0                   0         0   \n",
       "120    2020-04-30     0     0           0                   0         0   \n",
       "...           ...   ...   ...         ...                 ...       ...   \n",
       "278827 2020-03-11     0     0           0                   0         0   \n",
       "278828 2020-03-11     0     0           0                   0         0   \n",
       "278830 2020-03-11     0     1           0                   0         0   \n",
       "278836 2020-03-11     0     0           0                   0         0   \n",
       "278845 2020-03-11     0     0           0                   0         0   \n",
       "\n",
       "       corona_result age_60_and_above  gender         test_indication  \\\n",
       "9           negative             None    male  Contact with confirmed   \n",
       "23          negative             None    male  Contact with confirmed   \n",
       "41          positive             None    male  Contact with confirmed   \n",
       "103         positive             None  female  Contact with confirmed   \n",
       "120         positive             None    male  Contact with confirmed   \n",
       "...              ...              ...     ...                     ...   \n",
       "278827      negative             None    None  Contact with confirmed   \n",
       "278828      negative             None    None  Contact with confirmed   \n",
       "278830      positive             None    None  Contact with confirmed   \n",
       "278836      positive             None    None  Contact with confirmed   \n",
       "278845      positive             None    None  Contact with confirmed   \n",
       "\n",
       "        covid_result  close_contact  \n",
       "9                  0              1  \n",
       "23                 0              1  \n",
       "41                 1              1  \n",
       "103                1              1  \n",
       "120                1              1  \n",
       "...              ...            ...  \n",
       "278827             0              1  \n",
       "278828             0              1  \n",
       "278830             1              1  \n",
       "278836             1              1  \n",
       "278845             1              1  \n",
       "\n",
       "[10639 rows x 12 columns]"
      ]
     },
     "execution_count": 35,
     "metadata": {},
     "output_type": "execute_result"
    }
   ],
   "source": [
    "df[df[\"close_contact\"]==1]"
   ]
  },
  {
   "cell_type": "code",
   "execution_count": 10,
   "metadata": {},
   "outputs": [],
   "source": [
    "num_columns = [\"cough\",\"fever\",\"sore_throat\",\"shortness_of_breath\",\"head_ache\"]\n",
    "cat_columns = [\"age_60_and_above\",\"gender\",\"test_indication\"]"
   ]
  },
  {
   "cell_type": "code",
   "execution_count": null,
   "metadata": {},
   "outputs": [],
   "source": []
  },
  {
   "cell_type": "code",
   "execution_count": 16,
   "metadata": {},
   "outputs": [],
   "source": [
    "for col in num_columns:\n",
    "    df_006[col] = pd.to_numeric(df_006[col],errors='coerce')\n",
    "df_006.dropna(inplace=True)\n",
    "df_006[num_columns] = df_006[num_columns].astype(\"int64\")"
   ]
  },
  {
   "cell_type": "code",
   "execution_count": 30,
   "metadata": {},
   "outputs": [],
   "source": [
    "df = pd.get_dummies(df_006,columns=cat_columns)"
   ]
  },
  {
   "cell_type": "code",
   "execution_count": 32,
   "metadata": {},
   "outputs": [
    {
     "name": "stdout",
     "output_type": "stream",
     "text": [
      "<class 'pandas.core.frame.DataFrame'>\n",
      "Int64Index: 278594 entries, 0 to 278847\n",
      "Data columns (total 16 columns):\n",
      " #   Column                                  Non-Null Count   Dtype         \n",
      "---  ------                                  --------------   -----         \n",
      " 0   test_date                               278594 non-null  datetime64[ns]\n",
      " 1   cough                                   278594 non-null  int64         \n",
      " 2   fever                                   278594 non-null  int64         \n",
      " 3   sore_throat                             278594 non-null  int64         \n",
      " 4   shortness_of_breath                     278594 non-null  int64         \n",
      " 5   head_ache                               278594 non-null  int64         \n",
      " 6   corona_result                           278594 non-null  object        \n",
      " 7   age_60_and_above_No                     278594 non-null  uint8         \n",
      " 8   age_60_and_above_None                   278594 non-null  uint8         \n",
      " 9   age_60_and_above_Yes                    278594 non-null  uint8         \n",
      " 10  gender_None                             278594 non-null  uint8         \n",
      " 11  gender_female                           278594 non-null  uint8         \n",
      " 12  gender_male                             278594 non-null  uint8         \n",
      " 13  test_indication_Abroad                  278594 non-null  uint8         \n",
      " 14  test_indication_Contact with confirmed  278594 non-null  uint8         \n",
      " 15  test_indication_Other                   278594 non-null  uint8         \n",
      "dtypes: datetime64[ns](1), int64(5), object(1), uint8(9)\n",
      "memory usage: 19.4+ MB\n"
     ]
    }
   ],
   "source": [
    "df.info()"
   ]
  },
  {
   "cell_type": "code",
   "execution_count": 24,
   "metadata": {},
   "outputs": [],
   "source": [
    "ohe = OneHotEncoder()"
   ]
  },
  {
   "cell_type": "code",
   "execution_count": 34,
   "metadata": {},
   "outputs": [
    {
     "data": {
      "text/plain": [
       "0    259042\n",
       "Name: gender_None, dtype: int64"
      ]
     },
     "execution_count": 34,
     "metadata": {},
     "output_type": "execute_result"
    }
   ],
   "source": [
    "df = df[df['gender_None'] != 1]\n",
    "df[\"gender_None\"].value_counts()"
   ]
  },
  {
   "cell_type": "code",
   "execution_count": null,
   "metadata": {},
   "outputs": [],
   "source": []
  }
 ],
 "metadata": {
  "kernelspec": {
   "display_name": "Python 3 (ipykernel)",
   "language": "python",
   "name": "python3"
  },
  "language_info": {
   "codemirror_mode": {
    "name": "ipython",
    "version": 3
   },
   "file_extension": ".py",
   "mimetype": "text/x-python",
   "name": "python",
   "nbconvert_exporter": "python",
   "pygments_lexer": "ipython3",
   "version": "3.10.4"
  },
  "vscode": {
   "interpreter": {
    "hash": "416cd685863dcfdf0e9bd4d1bd65f22144b0daea7a94359631db441d1bf5999c"
   }
  }
 },
 "nbformat": 4,
 "nbformat_minor": 2
}
